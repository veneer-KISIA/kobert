{
 "cells": [
  {
   "cell_type": "markdown",
   "metadata": {},
   "source": [
    "주의점\n",
    "1. 문장이 끊겨서 나눠져있음 (일상대화 데이터)<br>\n",
    "`<SEP>` 토큰 관련\n",
    "\n",
    "2. 라벨과 토큰 분리 관련<br>\n",
    "봉구스 밥버거라는 --> '봉구스 밥버거' 로 라벨링되어있음\n",
    "\n",
    "3. 비식별화 된 데이터 처리\n",
    "%company name, name etc\n",
    "\n",
    "\n",
    "\"SDRW2000000026.1.1.97\"\n",
    "\n"
   ]
  },
  {
   "cell_type": "code",
   "execution_count": 1,
   "metadata": {},
   "outputs": [
    {
     "name": "stderr",
     "output_type": "stream",
     "text": [
      "c:\\Projects\\AISec\\.venv\\Lib\\site-packages\\tqdm\\auto.py:21: TqdmWarning: IProgress not found. Please update jupyter and ipywidgets. See https://ipywidgets.readthedocs.io/en/stable/user_install.html\n",
      "  from .autonotebook import tqdm as notebook_tqdm\n"
     ]
    }
   ],
   "source": [
    "from transformers import BertModel, DistilBertModel\n",
    "bert_model = BertModel.from_pretrained('monologg/kobert')"
   ]
  },
  {
   "cell_type": "code",
   "execution_count": 5,
   "metadata": {},
   "outputs": [
    {
     "name": "stderr",
     "output_type": "stream",
     "text": [
      "The tokenizer class you load from this checkpoint is not the same type as the class this function is called from. It may result in unexpected tokenization. \n",
      "The tokenizer class you load from this checkpoint is 'BertTokenizer'. \n",
      "The class this function is called from is 'KoBertTokenizer'.\n"
     ]
    },
    {
     "data": {
      "text/plain": [
       "['[CLS]', '▁한국', '어', '▁모델', '을', '▁공유', '합니다', '.', '[SEP]']"
      ]
     },
     "execution_count": 5,
     "metadata": {},
     "output_type": "execute_result"
    }
   ],
   "source": [
    "from tokenization_kobert import KoBertTokenizer\n",
    "tokenizer = KoBertTokenizer.from_pretrained('monologg/kobert') # monologg/distilkobert도 동일\n",
    "tokenizer.tokenize(\"[CLS] 한국어 모델을 공유합니다. [SEP]\")"
   ]
  },
  {
   "cell_type": "code",
   "execution_count": 10,
   "metadata": {},
   "outputs": [
    {
     "name": "stdout",
     "output_type": "stream",
     "text": [
      "['▁봉', '구', '스', '▁밥', '버', '거', '라는', '▁곳', '에서', '▁근무', '를', '▁했', '었', '을', '▁때', '에도', '.', '[SEP]']\n"
     ]
    }
   ],
   "source": [
    "print(tokenizer.tokenize(\"봉구스 밥버거라는 곳에서 근무를 했었을 때에도. [SEP]\"))"
   ]
  },
  {
   "cell_type": "code",
   "execution_count": 11,
   "metadata": {},
   "outputs": [],
   "source": [
    "import json\n",
    "\n",
    "with open('./NIKL_NE_2022_v1.0/SXNE2202211218.json', 'r', encoding='utf-8') as f:\n",
    "    test = json.load(f)"
   ]
  },
  {
   "cell_type": "code",
   "execution_count": 36,
   "metadata": {},
   "outputs": [
    {
     "data": {
      "text/plain": [
       "[{'id': 'SDRW2000000006.1.1.6',\n",
       "  'form': '그래서 떡볶이',\n",
       "  'word': [{'id': 1, 'form': '그래서', 'begin': 0, 'end': 3},\n",
       "   {'id': 2, 'form': '떡볶이', 'begin': 4, 'end': 7}],\n",
       "  'NE': [{'id': 1, 'form': '떡볶이', 'label': 'CV_FOOD', 'begin': 4, 'end': 7}]},\n",
       " {'id': 'SDRW2000000006.1.1.7',\n",
       "  'form': '좋아하고',\n",
       "  'word': [{'id': 1, 'form': '좋아하고', 'begin': 0, 'end': 4}],\n",
       "  'NE': []},\n",
       " {'id': 'SDRW2000000006.1.1.8',\n",
       "  'form': '카레도',\n",
       "  'word': [{'id': 1, 'form': '카레도', 'begin': 0, 'end': 3}],\n",
       "  'NE': [{'id': 1, 'form': '카레', 'label': 'CV_FOOD', 'begin': 0, 'end': 2}]},\n",
       " {'id': 'SDRW2000000006.1.1.9',\n",
       "  'form': '매운 카레를 좋아하고',\n",
       "  'word': [{'id': 1, 'form': '매운', 'begin': 0, 'end': 2},\n",
       "   {'id': 2, 'form': '카레를', 'begin': 3, 'end': 6},\n",
       "   {'id': 3, 'form': '좋아하고', 'begin': 7, 'end': 11}],\n",
       "  'NE': [{'id': 1, 'form': '카레', 'label': 'CV_FOOD', 'begin': 3, 'end': 5}]},\n",
       " {'id': 'SDRW2000000006.1.1.10',\n",
       "  'form': '돈가스를 먹어도',\n",
       "  'word': [{'id': 1, 'form': '돈가스를', 'begin': 0, 'end': 4},\n",
       "   {'id': 2, 'form': '먹어도', 'begin': 5, 'end': 8}],\n",
       "  'NE': [{'id': 1, 'form': '돈가스', 'label': 'CV_FOOD', 'begin': 0, 'end': 3}]},\n",
       " {'id': 'SDRW2000000006.1.1.11',\n",
       "  'form': '매운 돈가스를 좋아합니다.',\n",
       "  'word': [{'id': 1, 'form': '매운', 'begin': 0, 'end': 2},\n",
       "   {'id': 2, 'form': '돈가스를', 'begin': 3, 'end': 7},\n",
       "   {'id': 3, 'form': '좋아합니다.', 'begin': 8, 'end': 14}],\n",
       "  'NE': [{'id': 1, 'form': '돈가스', 'label': 'CV_FOOD', 'begin': 3, 'end': 6}]}]"
      ]
     },
     "execution_count": 36,
     "metadata": {},
     "output_type": "execute_result"
    }
   ],
   "source": [
    "test['document'][0]['sentence'][5:11]"
   ]
  },
  {
   "cell_type": "code",
   "execution_count": 50,
   "metadata": {},
   "outputs": [
    {
     "name": "stdout",
     "output_type": "stream",
     "text": [
      "가장 좋아하는 음식이 무엇인가요 ? O O O O O\n",
      "저는 주로 먹는 거를 좋아해서 음식을 가리지 않고 다 좋아하는데 매운 음식을 특히 좋아합니다 . O O O O O O O O O O O O O O O\n",
      "그래서 떡볶이 좋아하고 카레도 매운 카레를 좋아하고 돈가스를 먹어도 매운 돈가스를 좋아합니다 . O B-CV_FOOD O B-CV_FOOD O B-CV_FOOD O B-CV_FOOD O O B-CV_FOOD O O\n",
      "그래서 주로 매운 음식이면 다 좋아하는 것 같아요 . O O O O O O O O O\n",
      "그러면 name1 님은 가장 좋아하는 음식이 무엇인가요 ? O O O O O O O O\n",
      "저는 반대로 매운 걸 잘 먹지 못해서 매운 음식보다는 깔끔하고 담백한 음식을 좋아해요 . O O O O O O O O O O O O O O\n",
      "그래서 주로 한식 중에서는 김치찌개 대신 된장찌개 같은 걸 더 좋아하고 요즘 유행하는 마라탕보다는 우동같이 맵지 않은 걸 더 좋아해요 . O O B-CV_FOOD_STYLE O B-CV_FOOD O B-CV_FOOD O O O O O O B-CV_FOOD B-CV_FOOD O O O O O O\n",
      "그리고 어~ 간단하게 먹을 수 있는 라면류나 아니면 김밥 혹은 많은 사람들이 좋아하지만 저도 치킨을 좋아하고요 . O O O O O O O O B-CV_FOOD O O O O O B-CV_FOOD O O\n",
      "그리고 햄버거나 아니면 스테이크 파스타류도 좋아합니다 . O B-CV_FOOD O B-CV_FOOD O O O\n",
      "그럼 아까 별로 가리는 음식이 없다고 하셨는데 특히 이것만은 먹기 싫다 하는 음식이 있으신가요 ? O O O O O O O O O O O O O O O\n",
      "저는 닭발은 정말 맵 매운 음식인데도 잘 못 먹거든요 . O B-CV_FOOD O O O O O O O O\n",
      "그 이유가 보기에도 너무 징그럽고 입 안에 들어왔을 때에 느낌이 너무 이상해서 처음 먹었을 때 충격 받은 거 때문에 그 이후로 닭발을 한 번도 먹으려고 시도도 못 했던 것 같아요 . O O O O O B-AM_PART O O O O O O O O O O O O O O O B-CV_FOOD O O O O O O O O O\n",
      "특히 사람들은 뼈 없는 닭발을 좋아하는데 뼈 없는 닭발이 입 안에 통째로 들어왔을 때에 그 느낌이 정말 충격적이었어요 . O O B-TM_CELL_TISSUE_ORGAN O B-CV_FOOD O B-TM_CELL_TISSUE_ORGAN O B-CV_FOOD O O O O O O O O O O\n",
      "그러면 name1 님은 절대 못 먹는 음식이 있으신가요 ? O O O O O O O O O\n",
      "저는 가리는 음식이 굉장히 많은데 특히 버섯 같은 거나 닭발 곱창 막창 대창 이런 장기류는 식감도 이상하고 비주얼 적으로 좀 거북한 게 있어서 잘 절대 제 돈을 주고 사 먹으려는 편이 아니고요 . O O O O O O B-CV_FOOD O O B-CV_FOOD B-CV_FOOD B-CV_FOOD B-CV_FOOD O O O O O O O O O O O O O O O O O O O O\n",
      "남이 사준다고 해도 먹지 않는 편이에요 . O O O O O O O\n",
      "그리고 특히 버섯은 식감이 물컹물컹하고 버섯 특유의 향이 거북해서 버섯을 먹으면 헛구역질이 나올 정도로 정말 싫어하고요 . O O B-CV_FOOD O O B-CV_FOOD O O O B-CV_FOOD O O O O O O O\n",
      "그리고 아까 말씀하셨던 닭발이나 아니면 순대 순대에서도 특히 내장 창자 같은 거 되게 싫어합니다 . O O O B-CV_FOOD O B-CV_FOOD B-CV_FOOD O B-CV_FOOD B-CV_FOOD O O O O O\n",
      "그럼 혹시 먹는 거 좋아한다고 하셨는데 맛집 같은 거는 찾아다니시는 편인가요 ? O O O O O O O O O O O O\n",
      "저는 음식을 먹으러 외식을 할 때에는 무조건 맛집을 찾아서 가는 편입니다 . O O O O O O O O O O O O\n",
      "음 그렇게 맛집을 찾아다니는 게 취미가 되다 보니 저 또한 맛집 블로그를 운영하게 되었어요 . O O O O O O O O O O O O O O O\n",
      "그래서 꾸준히 블로그를 운영하다 보니까 어~ 음식점에서 어~ 저를 초대해서 음식을 대접해 주시는 경우도 있고 그렇게 해서 알게 된 맛집도 정말 많아지고 이제는 친구들이 어느 지역에 있든지 간에 맛집이 궁금하면 저에게 가장 먼저 연락하기도 합니다 . O O O O O O O O O O O O O O O O O O O O O O O O O O O O O O O O O O O O\n",
      "저는 앞으로도 맛집을 계속 찾아다니면서 맛있는 음식을 먹으러 다닐 계획이 있어요 . O O O O O O O O O O O O\n",
      "왜냐면 맛있는 음식을 먹으면 음 같이 있는 사람과 함께 있었던 그 기억이나 추억이 그 맛있는 음식으로 인해서 더 행복하게 다가오는 거 같아요 . O O O O O O O O O O O O O O O O O O O O O O O\n",
      "그러면 name1 님은 맛집이라고 했을 때에 어~ 웨이팅이 오랫동안 있다고 한다면 꼭 기다려서라도 그 집에서 먹는 편인가요 아니면 기다리지 않고 다른 곳으로 가는 편인가요 ? O O O O O O O O O O O O O O O O O O O O O O O O O\n",
      "저는 그렇게까지 맛집에서 먹고자 하는 의욕이 없기 때문에 웨이팅이 길다면 차라리 다른 음식점에 가서 식사를 할 거 같아요 . O O O O O O O O O O O O O O O O O O O\n",
      "기다리는 게 싫기도 하고 지루하고 시간 낭비라고 생각해서 그렇게까지 기다리면서 먹을만한 가치가 있는 음식은 제 기준엔 없는 거 같아서 차라리 쪼금 맛이 없더라도 그래도 먹을만한 식당이 있다면 그곳에 가서 웨이팅 없이 식사를 할 것 같습니다 . O O O O O O O O O O O O O O O O O O O O O O O O O O O O O O O O O O O O\n",
      "그리고 어~ 그렇게 맛집을 찾아다니는 편도 아니고 원래 친구들이랑 만나서 식사를 할 때도 눈에 보이는 식당 에 가서 먹는 편이기 때문에 x케 맛집을 찾아다녀야 하는지도 잘 모르겠어요 . O O O O O O O O O O O O O B-AM_PART O O O O O O O O O O O O O O\n",
      "웬만한 곳은 다 맛있으니까 음 저는 식사를 하고 난 후에는 항상 카페에 가서 간단한 디저트와 음료를 마시는 걸 즐기는 편인데요 . O O O O O O O O O O O O O O O O O O O O O\n",
      "name2 님도 카페나 디저트류를 좋아하시나요 ? O O O O O O\n",
      "어~ 여자들은 보통 밥 배랑 디저트 배가 따로 있다고 하잖아요 ? O O O B-CV_FOOD B-AM_PART O B-AM_PART O O O O\n",
      "그래서 디저트를 꼭 먹으러 가는 친구들도 많은데 저는 디저트 먹는 거를 즐기는 편은 아니에요 . O O O O O O O O O O O O O O O\n",
      "그래서 주로 카페에 간다고 하더라도 어~ 빵이나 케이크 같은 디저트를 주문하기보다는 어~ 간단하게 마실 수 있는 음료를 주문하고 어~ 음료도 한번 시키면 금방 다 먹지 못하고 하루 종일 가지고 다니면서 먹는 편이에요 . O O O O O O B-CV_FOOD B-CV_FOOD O O O O O O O O O O O O B-QT_COUNT O O O O O B-DT_DURATION O O O O O O\n",
      "그래서 친구들은 저한테 밥은 그렇게 많이 먹고 빨리 먹으면서 왜 음료나 과자 빵 이런 것들은 안 먹고 잘 못 먹는지 되게 이상하게 생각하더라고요 . O O O B-CV_FOOD O O O O O O O B-CV_FOOD B-CV_FOOD O O O O O O O O O O O\n",
      "저도 음 제가 왜 그런지는 모르겠지만 이런 사람이 많지는 않은 거 같아요 . O O O O O O O O O O O O O\n",
      "그래서 친구들은 저를 많이 공감을 못 하지만 음 저는 디저트를 별로 안 좋아해서 앞으로도 이렇게 살 것 같습니다 . O O O O O O O O O O O O O O O O O O O\n",
      "특히 좋아하는 디저트가 있다면 그래도 꼽아보자면 크리스피 크림에 글레이즈드 도넛을 좋아하는 거 같아요 . O O O O O O O O O O O O O O\n",
      "그러면 name1 님은 디저트 중에서 가장 좋아하는 건 어떤 것인가요 ? O O O O O O O O O O O\n",
      "저는 디저트를 굉장히 좋아하기 때문에 어떤 종류든 웬만해서는 다 좋아해서 잘 먹는 편이에요 . O O O O O O O O O O O O O O\n",
      "그렇지만 특히 가장 좋아하는 디저트를 꼽아보자면 저는 얇게 한 층 한 층 쌓아 올린 크레이프 케이크를 가장 좋아합니다 . O O O O O O O O O O O O O O O O O O O\n",
      "특히 전에 크레이프 케이크를 전문적으로 파는 카페에 간 적이 있었는데 거기서는 다양한 종류의 크레이프 케이크를 맛볼 수 있어서 정말 행복한 경험이었다고 생각해요 . O O O O O O O O O O O O O O O O O O O O O O O\n",
      "특히 크 티라미수 맛을 낸 크레이프 케이크가 가장 기억에 남았습니다 . O O B-CV_FOOD O O O O O O O O\n",
      "위에 올려진 코코아 파우더 때문에 먹기는 조금 힘들었지만 평소 빵과 같이 먹는 티라미수를 케이크 형식으로 접할 수 있었다는 게 되게 신선하고 새로웠어요 . O O O O O O O O O B-CV_FOOD O O B-CV_FOOD B-CV_FOOD O O O O O O O O O\n",
      "그리고 주로 디저트를 먹을 때 달달한 걸 먹기 때문에 함께 차와 즐기는 편인데 혹시 특별히 좋아하시는 차나 요즘에 관심 가지는 차가 종류가 있나요 ? O O O O O O O O O O B-CV_DRINK O O O O O B-CV_DRINK O O O B-CV_DRINK O O O\n",
      "저는 사실 차에 대해서 잘 몰랐는데 제 동생이 차를 너무 좋아해서 알게 된 게 한 가지 있어요 . O O B-CV_DRINK O O O O B-CV_RELATION B-CV_DRINK O O O O O O O O O\n",
      "레이디 그레이라는 차였는데요 . O O O O\n",
      "제가 영국 여행을 갔을 때 동생이 그 차를 꼭 좀 사다 달라고 부탁을 하더라고요 . O B-LCP_COUNTRY O O O B-CV_RELATION O B-CV_DRINK O O O O O O O\n",
      "이곳저곳 있는 찻집 다 돌아다니면서 레이디 그레이를 찾다 보니 절대 잊을 수 없는 차가 되었습니다 . O O O O O O O O O O O O O B-CV_DRINK O O\n",
      "집에 와서 함께 우려서 마셔보니 정말 맛있기도 했고 어~ 제가 지금까지 기억하는 차 중에서는 가장 향기롭고 어~ 풍미가 좋았던 거 같아요 . O O O O O O O O O O O O B-CV_DRINK O O O O O O O O O\n",
      "그래서 고생을 하면서 샀지만 어~ 마셔보니 그런 고생을 할 만 했다라는 생각이 들어서 레이디 그레이라는 차가 기억에 많이 남습니다 . O O O O O O O O O O O O O O O O O O O O\n",
      "그러면 name1 님은 가장 좋아하는 차가 있다면 어떤 건가요 ? O O O O O B-CV_DRINK O O O O\n",
      "제가 레이디 그레이를 좋아해서 언니한테 사다 달라고 한 적이 있는데요 . O O O O B-CV_RELATION O O O O O O\n",
      "잊지 않고 그렇게 고생을 해가면서 저를 위해 차를 사다 준 게 정말 감동적이었고 기억에 남습니다 . O O O O O O O O O O O O O O O O\n",
      "특히 사 온 이후에 가족들에게 제가 차를 직접 우려주었을 때 다들 감탄하면서 정말 맛있게 마셔주셨 마셔주어서 진짜 뿌듯하고 어~ 가족을 위해서 내가 할 수 있는 일이 이런 일도 있구나 하는 생각이 들게 되어서 그 이후로도 가족들이 차를 우려달라고 부탁을 하면 웬만큼 거절하지 않고 정성을 들여서 우려주는 편이에요 . O O O O B-CV_RELATION O B-CV_DRINK O O O O O O O O O O O O B-CV_RELATION O O O O O O O O O O O O O O O B-CV_RELATION B-CV_DRINK O O O O O O O O O O O\n",
      "그리고 저 덕분에 가족들이 차에 대해서 더 많은 관심을 갖게 된 것 같아서 음 기쁩니다 . O O O B-CV_RELATION B-CV_DRINK O O O O O O O O O O O\n",
      "앞으로는 다른 차류도 많이 접해보면서 여러 가지 맛있는 차들을 가족들에게 소개시켜주고 싶어요 . O O O O O O O O B-CV_DRINK B-CV_RELATION O O O\n",
      "name1 님은 주로 요리하는 걸 좋아하시나요 ? O O O O O O O\n",
      "저는 사실 요리에 소질이 없어서 친구들도 저 보고 요리는 절대 하지 말라고 할 정도로 제가 요리를 하면 항상 간이 안 맞거나 뭔가 양이 너무 많아지거나 좀 태우거나 하더라고요 . O O O O O O O O O O O O O O O O O O O O O O O O O O O O O\n",
      "그래서 그 간편 조리 식품 말고는 잘 해 먹으려고 하는 편은 아니고요 . O O O O O O O O O O O O O\n",
      "주로 바깥에서 사 먹거나 남이 해주는 음식을 먹거나 아니면 라면이나 냉동 만두나 치킨너깃 같은 간편 조리 식품을 주로 해 먹는 편입니다 . O O O O O O O O O B-CV_FOOD O O O O O O O O O O O O\n",
      "그래서 저도 사실 파스타를 굉장히 좋아하는데 파스타는 그렇게 간편하게 해 먹을 수 있는 요리는 아니잖아요 . O O O B-CV_FOOD O O B-CV_FOOD O O O O O O O O O\n",
      "나중에는 요리를 배워서 제가 먹고 싶은 음식을 집에서 해 먹을 수 있었으면 좋겠습니다 . O O O O O O O O O O O O O O\n",
      "글면 name2 님은 요리를 해 드시는 걸 좋아하시나요 아니면 바깥에서 사서 드시는 걸 좋아하시나요 ? O O O O O O O O O O O O O O O\n",
      "저는 무조건 바깥에서 사 먹는 걸 좋아하는데요 . O O O O O O O O\n",
      "그 이유는 제가 요리하는 걸 정말 못하기도 하고 싫어하기도 해서 그렇습니다 . O O O O O O O O O O O O\n",
      "저는 요리를 못하는 거뿐만 아니라 요리를 하기를 너무 귀찮아하고 싫어해서 어~ 요리를 할 마음이 잘 안 들더라고요 . O O O O O O O O O O O O O O O O O O\n",
      "그래서 그러다 보니 자연스럽게 요리를 못하게 되고 다른 사람에게 의지하게 되는 것 같습니다 . O O O O O O O O O O O O O O\n",
      "그래서 주로 집에 있을 때 주로 집에 있을 때 어~ 요리를 해야 하는 상황이 되면 어~ 그냥 끼니를 거르거나 아니면 배달 음식을 시켜 먹는 것 같습니다 . O O O O O O O O O O O O O O O O O O O O O O O O O O O\n"
     ]
    }
   ],
   "source": [
    "from io import StringIO\n",
    "\n",
    "sentences = []\n",
    "labels = []\n",
    "doc_sentences = test['document'][0]['sentence']\n",
    "\n",
    "sent = StringIO()\n",
    "label = []\n",
    "for words in doc_sentences:\n",
    "    # sentence\n",
    "    sent.write(words['form'])\n",
    "\n",
    "    # label\n",
    "    ne = words['NE']\n",
    "    words_length = len(words['word'])\n",
    "    if not ne:\n",
    "        label.extend(['O'] * words_length)  # add O label\n",
    "    else:\n",
    "        ne_iter = iter(ne)\n",
    "        next_label = next(ne_iter)\n",
    "        try:\n",
    "            for i, word in enumerate(words['word'], 1):\n",
    "                word_beg = word['begin']\n",
    "                word_end = word['end']\n",
    "\n",
    "                if word_beg <= next_label['begin'] and next_label['end'] <= word_end:  # label word\n",
    "                    if word_beg == next_label['begin']:  # start of label\n",
    "                        label.append(f\"B-{next_label['label']}\")\n",
    "\n",
    "                    if word_beg < next_label['begin']:  # label is multiple words\n",
    "                        label.append(f\"I-{next_label['label']}\")\n",
    "\n",
    "                    if next_label['end'] <= word['end']:  # end of label\n",
    "                        next_label = next(ne_iter)     \n",
    "                \n",
    "                else:\n",
    "                    label.append('O')\n",
    "\n",
    "        except StopIteration:\n",
    "            label.extend(['O'] * (words_length - i))                \n",
    "\n",
    "    # end of sentence\n",
    "    if words['form'].endswith('.') or words['form'].endswith('?'):\n",
    "        # separate . or ?\n",
    "        sent.seek(sent.tell()-1)\n",
    "        sent.write(f\" {words['form'][-1]}\")\n",
    "        label.append('O')\n",
    "\n",
    "        sentences.append(sent.getvalue())\n",
    "        labels.append(' '.join(label))\n",
    "        sent = StringIO()  # new sentence\n",
    "        label = []\n",
    "        \n",
    "    else:\n",
    "        sent.write(' ')\n",
    "\n",
    "for s, l in zip(sentences, labels):\n",
    "    print(s, l)"
   ]
  }
 ],
 "metadata": {
  "kernelspec": {
   "display_name": ".venv",
   "language": "python",
   "name": "python3"
  },
  "language_info": {
   "codemirror_mode": {
    "name": "ipython",
    "version": 3
   },
   "file_extension": ".py",
   "mimetype": "text/x-python",
   "name": "python",
   "nbconvert_exporter": "python",
   "pygments_lexer": "ipython3",
   "version": "3.11.1"
  },
  "orig_nbformat": 4
 },
 "nbformat": 4,
 "nbformat_minor": 2
}
