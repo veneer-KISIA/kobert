{
 "cells": [
  {
   "cell_type": "markdown",
   "metadata": {},
   "source": [
    "주의점\n",
    "1. 문장이 끊겨서 나눠져있음 (일상대화 데이터)<br>\n",
    "`<SEP>` 토큰 관련\n",
    "\n",
    "2. 라벨과 토큰 분리 관련<br>\n",
    "봉구스 밥버거라는 --> '봉구스 밥버거' 로 라벨링되어있음\n",
    "\n",
    "3. 비식별화 된 데이터 처리\n",
    "%company name, name etc\n",
    "\n",
    "\n",
    "오류\n",
    "\n",
    "\n",
    "\"id\": \"SDRW2000000179.1.1.87\",\n",
    "\"form\": \"콜라겐을 챙겨 먹으려고 | 하는데\"\n",
    "\n",
    "| -> 토큰 개수 때문에 제거\n",
    "\n",
    "\n",
    "\"id\": \"SDRW2000000231.1.1.342\",\n",
    "\"form\": \"연기를 조금 해보고 싶어 .\"\n",
    "\n",
    ". -> 토큰 취급 (띄어쓰기)\n"
   ]
  },
  {
   "cell_type": "code",
   "execution_count": 1,
   "metadata": {},
   "outputs": [
    {
     "name": "stderr",
     "output_type": "stream",
     "text": [
      "c:\\Projects\\AISec\\.venv\\Lib\\site-packages\\tqdm\\auto.py:21: TqdmWarning: IProgress not found. Please update jupyter and ipywidgets. See https://ipywidgets.readthedocs.io/en/stable/user_install.html\n",
      "  from .autonotebook import tqdm as notebook_tqdm\n"
     ]
    }
   ],
   "source": [
    "from transformers import BertModel, DistilBertModel\n",
    "bert_model = BertModel.from_pretrained('monologg/kobert')"
   ]
  },
  {
   "cell_type": "code",
   "execution_count": 5,
   "metadata": {},
   "outputs": [
    {
     "name": "stderr",
     "output_type": "stream",
     "text": [
      "The tokenizer class you load from this checkpoint is not the same type as the class this function is called from. It may result in unexpected tokenization. \n",
      "The tokenizer class you load from this checkpoint is 'BertTokenizer'. \n",
      "The class this function is called from is 'KoBertTokenizer'.\n"
     ]
    },
    {
     "data": {
      "text/plain": [
       "['[CLS]', '▁한국', '어', '▁모델', '을', '▁공유', '합니다', '.', '[SEP]']"
      ]
     },
     "execution_count": 5,
     "metadata": {},
     "output_type": "execute_result"
    }
   ],
   "source": [
    "from tokenization_kobert import KoBertTokenizer\n",
    "tokenizer = KoBertTokenizer.from_pretrained('monologg/kobert') # monologg/distilkobert도 동일\n",
    "tokenizer.tokenize(\"[CLS] 한국어 모델을 공유합니다. [SEP]\")"
   ]
  },
  {
   "cell_type": "code",
   "execution_count": 10,
   "metadata": {},
   "outputs": [
    {
     "name": "stdout",
     "output_type": "stream",
     "text": [
      "['▁봉', '구', '스', '▁밥', '버', '거', '라는', '▁곳', '에서', '▁근무', '를', '▁했', '었', '을', '▁때', '에도', '.', '[SEP]']\n"
     ]
    }
   ],
   "source": [
    "print(tokenizer.tokenize(\"봉구스 밥버거라는 곳에서 근무를 했었을 때에도. [SEP]\"))"
   ]
  },
  {
   "cell_type": "code",
   "execution_count": 5,
   "metadata": {},
   "outputs": [],
   "source": [
    "import json\n",
    "\n",
    "with open('./NIKL_NE_2022_v1.0/SXNE2202211218.json', 'r', encoding='utf-8') as f:\n",
    "    test = json.load(f)"
   ]
  },
  {
   "cell_type": "code",
   "execution_count": 36,
   "metadata": {},
   "outputs": [
    {
     "data": {
      "text/plain": [
       "[{'id': 'SDRW2000000006.1.1.6',\n",
       "  'form': '그래서 떡볶이',\n",
       "  'word': [{'id': 1, 'form': '그래서', 'begin': 0, 'end': 3},\n",
       "   {'id': 2, 'form': '떡볶이', 'begin': 4, 'end': 7}],\n",
       "  'NE': [{'id': 1, 'form': '떡볶이', 'label': 'CV_FOOD', 'begin': 4, 'end': 7}]},\n",
       " {'id': 'SDRW2000000006.1.1.7',\n",
       "  'form': '좋아하고',\n",
       "  'word': [{'id': 1, 'form': '좋아하고', 'begin': 0, 'end': 4}],\n",
       "  'NE': []},\n",
       " {'id': 'SDRW2000000006.1.1.8',\n",
       "  'form': '카레도',\n",
       "  'word': [{'id': 1, 'form': '카레도', 'begin': 0, 'end': 3}],\n",
       "  'NE': [{'id': 1, 'form': '카레', 'label': 'CV_FOOD', 'begin': 0, 'end': 2}]},\n",
       " {'id': 'SDRW2000000006.1.1.9',\n",
       "  'form': '매운 카레를 좋아하고',\n",
       "  'word': [{'id': 1, 'form': '매운', 'begin': 0, 'end': 2},\n",
       "   {'id': 2, 'form': '카레를', 'begin': 3, 'end': 6},\n",
       "   {'id': 3, 'form': '좋아하고', 'begin': 7, 'end': 11}],\n",
       "  'NE': [{'id': 1, 'form': '카레', 'label': 'CV_FOOD', 'begin': 3, 'end': 5}]},\n",
       " {'id': 'SDRW2000000006.1.1.10',\n",
       "  'form': '돈가스를 먹어도',\n",
       "  'word': [{'id': 1, 'form': '돈가스를', 'begin': 0, 'end': 4},\n",
       "   {'id': 2, 'form': '먹어도', 'begin': 5, 'end': 8}],\n",
       "  'NE': [{'id': 1, 'form': '돈가스', 'label': 'CV_FOOD', 'begin': 0, 'end': 3}]},\n",
       " {'id': 'SDRW2000000006.1.1.11',\n",
       "  'form': '매운 돈가스를 좋아합니다.',\n",
       "  'word': [{'id': 1, 'form': '매운', 'begin': 0, 'end': 2},\n",
       "   {'id': 2, 'form': '돈가스를', 'begin': 3, 'end': 7},\n",
       "   {'id': 3, 'form': '좋아합니다.', 'begin': 8, 'end': 14}],\n",
       "  'NE': [{'id': 1, 'form': '돈가스', 'label': 'CV_FOOD', 'begin': 3, 'end': 6}]}]"
      ]
     },
     "execution_count": 36,
     "metadata": {},
     "output_type": "execute_result"
    }
   ],
   "source": [
    "test['document'][0]['sentence'][5:11]"
   ]
  },
  {
   "cell_type": "code",
   "execution_count": 8,
   "metadata": {},
   "outputs": [
    {
     "name": "stdout",
     "output_type": "stream",
     "text": [
      "{'QT_COUNT-B', 'OGG_SCIENCE-B', 'TR_SOCIAL_SCIENCE-I', 'FD_SCIENCE-I', 'CV_ART-B', 'OGG_FOOD-B', 'EV_FESTIVAL-I', 'AFA_PERFORMANCE-I', 'QT_ALBUM-B', 'OGG_SPORTS-I', 'PS_NAME-B', 'PT_TYPE-B', 'AF_CULTURAL_ASSET-I', 'AF_ROAD-I', 'QT_TEMPERATURE-I', 'PT_PART-B', 'CV_FOOD-I', 'PT_GRASS-B', 'UNK', 'OGG_ECONOMY-B', 'DT_DAY-I', 'CV_CULTURE-B', 'QT_PRICE-I', 'CV_OCCUPATION-I', 'OGG_LIBRARY-B', 'AM_FISH-B', 'CV_FOOD_STYLE-I', 'OGG_HOTEL-I', 'TMI_SERVICE-I', 'QT_WEIGHT-I', 'MT_ROCK-B', 'LC_OTHERS-B', 'EV_FESTIVAL-B', 'AM_PART-I', 'EV_SPORTS-I', 'OGG_MEDIA-B', 'TM_SHAPE-B', 'TR_SOCIAL_SCIENCE-B', 'AFW_SERVICE_PRODUCTS-I', 'FD_HUMANITIES-B', 'AFA_MUSIC-B', 'TMM_DISEASE-B', 'LCP_PROVINCE-B', 'EV_OTHERS-I', 'CV_POLICY-B', 'AF_BUILDING-I', 'DT_MONTH-I', 'AM_REPTILIA-B', 'PT_OTHERS-B', 'OGG_POLITICS-B', 'LCG_RIVER-B', 'TM_CLIMATE-B', 'OGG_POLITICS-I', 'FD_ART-I', 'EV_WAR_REVOLUTION-I', 'CV_CURRENCY-B', 'LCG_MOUNTAIN-B', 'TM_CELL_TISSUE_ORGAN-B', 'AFA_DOCUMENT-B', 'CV_DRINK-B', 'EV_ACTIVITY-B', 'DT_GEOAGE-B', 'AFA_VIDEO-I', 'QT_SIZE-I', 'PT_FRUIT-B', 'QT_SPEED-I', 'LCG_CONTINENT-B', 'OGG_ART-B', 'AF_ROAD-B', 'CV_SPORTS_INST-B', 'CV_LAW-I', 'CV_FOOD-B', 'LCG_ISLAND-B', 'LCP_COUNTY-B', 'QT_VOLUME-I', 'TR_SCIENCE-I', 'AFW_OTHER_PRODUCTS-I', 'TMI_PROJECT-I', 'DT_DURATION-I', 'TR_MEDICINE-I', 'CV_SPORTS_POSITION-B', 'MT_METAL-B', 'AFA_PERFORMANCE-B', 'OGG_OTHERS-B', 'PT_OTHERS-I', 'DT_DURATION-B', 'MT_ELEMENT-B', 'CV_SPORTS-B', 'LCP_COUNTRY-B', 'LCG_OCEAN-B', 'AF_WEAPON-I', 'DT_WEEK-B', 'AM_BIRD-B', 'AM_OTHERS-I', 'AM_AMPHIBIA-B', 'AFW_SERVICE_PRODUCTS-B', 'DT_SEASON-B', 'QT_MAN_COUNT-I', 'AM_MAMMALIA-I', 'LCG_BAY-B', 'DT_OTHERS-B', 'LCP_COUNTY-I', 'OGG_MEDICINE-B', 'TR_OTHERS-B', 'QT_PERCENTAGE-I', 'QT_VOLUME-B', 'TR_ART-I', 'OGG_LAW-B', 'CV_FUNDS-B', 'CV_POLICY-I', 'TI_DURATION-I', 'PT_FLOWER-I', 'AM_PART-B', 'TI_OTHERS-B', 'OGG_OTHERS-I', 'QT_OTHERS-I', 'LCP_CITY-B', 'PS_CHARACTER-I', 'AM_TYPE-B', 'QT_WEIGHT-B', 'QT_LENGTH-B', 'TM_DIRECTION-I', 'QT_COUNT-I', 'MT_CHEMICAL-I', 'PS_PET-B', 'OGG_ART-I', 'QT_ORDER-B', 'DT_MONTH-B', 'CV_POSITION-I', 'FD_SOCIAL_SCIENCE-I', 'FD_MEDICINE-B', 'CV_POSITION-B', 'LC_SPACE-B', 'EV_OTHERS-B', 'OGG_MILITARY-I', 'FD_SOCIAL_SCIENCE-B', 'OGG_ECONOMY-I', 'PT_FLOWER-B', 'TI_MINUTE-B', 'PT_FRUIT-I', 'DT_DYNASTY-I', 'CV_SPORTS_POSITION-I', 'QT_PRICE-B', 'LCG_RIVER-I', 'QT_SIZE-B', 'QT_AGE-I', 'OGG_MILITARY-B', 'TMIG_GENRE-B', 'TI_OTHERS-I', 'EV_WAR_REVOLUTION-B', 'TMI_SW-B', 'TR_HUMANITIES-B', 'AF_WEAPON-B', 'AM_MAMMALIA-B', 'QT_AGE-B', 'CV_DRINK-I', 'CV_LANGUAGE-B', 'QT_SPORTS-B', 'FD_MEDICINE-I', 'CV_FUNDS-I', 'TM_CLIMATE-I', 'FD_SCIENCE-B', 'DT_YEAR-B', 'DT_DAY-B', 'CV_TAX-B', 'TMM_DRUG-I', 'TM_CELL_TISSUE_ORGAN-I', 'TMI_SERVICE-B', 'TMM_DRUG-B', 'QT_OTHERS-B', 'QT_MAN_COUNT-B', 'TR_MEDICINE-B', 'PT_TREE-B', 'TM_COLOR-B', 'CV_CLOTHING-B', 'CV_PRIZE-B', 'TR_ART-B', 'AFW_OTHER_PRODUCTS-B', 'PT_GRASS-I', 'LCG_MOUNTAIN-I', 'OGG_EDUCATION-I', 'CV_OCCUPATION-B', 'QT_SPEED-B', 'AFA_MUSIC-I', 'QT_PERCENTAGE-B', 'OGG_SPORTS-B', 'CV_RELATION-B', 'QT_ALBUM-I', 'CV_FOOD_STYLE-B', 'TMI_HW-B', 'AF_TRANSPORT-I', 'DT_WEEK-I', 'O', 'TI_HOUR-I', 'DT_SEASON-I', 'LC_OTHERS-I', 'QT_ORDER-I', 'CV_TRIBE-I', 'DT_OTHERS-I', 'EV_ACTIVITY-I', 'OGG_MEDICINE-I', 'CV_LAW-B', 'TMI_HW-I', 'OGG_MEDIA-I', 'LCP_PROVINCE-I', 'OGG_EDUCATION-B', 'TM_COLOR-I', 'TM_SPORTS-I', 'FD_ART-B', 'FD_HUMANITIES-I', 'TMM_DISEASE-I', 'OGG_FOOD-I', 'EV_SPORTS-B', 'AFA_DOCUMENT-I', 'DT_DYNASTY-B', 'AM_INSECT-B', 'DT_YEAR-I', 'PS_CHARACTER-B', 'TI_DURATION-B', 'AFA_ART_CRAFT-B', 'QT_SPORTS-I', 'AFA_ART_CRAFT-I', 'CV_CLOTHING-I', 'TM_SHAPE-I', 'QT_LENGTH-I', 'AF_MUSICAL_INSTRUMENT-B', 'AFA_VIDEO-B', 'LCP_CAPITALCITY-B', 'OGG_HOTEL-B', 'TMIG_GENRE-I', 'CV_TAX-I', 'FD_OTHERS-B', 'OGG_RELIGION-I', 'AF_BUILDING-B', 'TR_SCIENCE-B', 'CV_SPORTS_INST-I', 'TMI_PROJECT-B', 'PS_NAME-I', 'TI_HOUR-B', 'CV_PRIZE-I', 'CV_ART-I', 'CV_TRIBE-B', 'TM_SPORTS-B', 'QT_PHONE-B', 'AM_OTHERS-B', 'CV_SPORTS-I', 'CV_RELATION-I', 'QT_TEMPERATURE-B', 'AF_CULTURAL_ASSET-B', 'MT_CHEMICAL-B', 'CV_BUILDING_TYPE-B', 'OGG_RELIGION-B', 'TM_DIRECTION-B', 'LCP_COUNTRY-I', 'CV_CULTURE-I', 'AF_TRANSPORT-B'}\n"
     ]
    }
   ],
   "source": [
    "from io import StringIO\n",
    "import random\n",
    "\n",
    "label_set = set(['UNK'])\n",
    "sentences = []\n",
    "labels = []\n",
    "\n",
    "for document in test['document']:\n",
    "    doc_sentences = document['sentence']\n",
    "\n",
    "    sent = StringIO()\n",
    "    label = []\n",
    "    for words in doc_sentences:\n",
    "        # sentence\n",
    "        sent.write(words['form'].replace('|', ''))\n",
    "\n",
    "        # label\n",
    "        ne = words['NE']\n",
    "        words_length = len(words['word'])\n",
    "        if not ne:\n",
    "            label.extend(['O'] * words_length)  # add O label\n",
    "        else:\n",
    "            ne_iter = iter(ne)\n",
    "            next_label = next(ne_iter)\n",
    "            try:\n",
    "                for i, word in enumerate(words['word'], 1):\n",
    "                    word_beg = word['begin']\n",
    "                    word_end = word['end']\n",
    "\n",
    "                    if next_label['begin'] <= word_end:  # reached label word\n",
    "                        if word_beg <= next_label['begin']:  # if word start of label\n",
    "                            label.append(f\"{next_label['label']}-B\")\n",
    "\n",
    "                        else:  # label is multiple words, but does not contain begining\n",
    "                            label.append(f\"{next_label['label']}-I\")\n",
    "\n",
    "                        if next_label['end'] <= word_end:  # end of label\n",
    "                            next_label = next(ne_iter)     \n",
    "                    \n",
    "                    else:\n",
    "                        label.append('O')\n",
    "\n",
    "            except StopIteration:\n",
    "                label.extend(['O'] * (words_length - i))                \n",
    "\n",
    "        # end of sentence\n",
    "        if words['form'].endswith('.') or words['form'].endswith('?'):\n",
    "            # separate . or ?\n",
    "            # sent.seek(sent.tell()-1)\n",
    "            # sent.write(f\" {words['form'][-1]}\")\n",
    "            # label.append('O')\n",
    "\n",
    "            label_set.update(label)\n",
    "\n",
    "            sentences.append(sent.getvalue())\n",
    "            labels.append(' '.join(label))\n",
    "            sent = StringIO()  # new sentence\n",
    "            label = []\n",
    "            \n",
    "        else:\n",
    "            sent.write(' ')\n",
    "\n",
    "with open('./data/train.tsv', 'w', encoding='utf-8') as f_train, open('./data/test.tsv', 'w', encoding='utf-8') as f_test:\n",
    "\n",
    "    for s, l in zip(sentences, labels):\n",
    "        rand = random.random()\n",
    "        if rand < 0.8:\n",
    "            f_train.write(f'{s}\\t{l}\\n')\n",
    "        else:\n",
    "            f_test.write(f'{s}\\t{l}\\n')\n",
    "\n",
    "print(label_set)"
   ]
  },
  {
   "cell_type": "code",
   "execution_count": 23,
   "metadata": {},
   "outputs": [],
   "source": [
    "label_list = list(label_set)\n",
    "label_list.sort()\n",
    "\n",
    "with open('./data/label.txt', 'w', encoding='utf-8') as f_label:\n",
    "    for lab in label_list:\n",
    "        f_label.write(f'{lab}\\n')\n"
   ]
  },
  {
   "cell_type": "code",
   "execution_count": 1,
   "metadata": {},
   "outputs": [
    {
     "data": {
      "text/plain": [
       "True"
      ]
     },
     "execution_count": 1,
     "metadata": {},
     "output_type": "execute_result"
    }
   ],
   "source": [
    "# test for cuda\n",
    "import torch\n",
    "torch.cuda.is_available()"
   ]
  },
  {
   "cell_type": "code",
   "execution_count": null,
   "metadata": {},
   "outputs": [],
   "source": [
    "import easydict\n",
    "from predict import pridict\n",
    "\n",
    "pred_args = easydict.EasyDict({\n",
    "    'input_file':'./sample_pred_in.txt',\n",
    "    'output_file':'sample_pred_out.txt',\n",
    "    'model_dir':'./model',\n",
    "    'batch_size':32,\n",
    "    'no_cuda':True,\n",
    " })\n",
    "\n",
    "predict(pred_args)"
   ]
  }
 ],
 "metadata": {
  "kernelspec": {
   "display_name": ".venv",
   "language": "python",
   "name": "python3"
  },
  "language_info": {
   "codemirror_mode": {
    "name": "ipython",
    "version": 3
   },
   "file_extension": ".py",
   "mimetype": "text/x-python",
   "name": "python",
   "nbconvert_exporter": "python",
   "pygments_lexer": "ipython3",
   "version": "3.11.1"
  },
  "orig_nbformat": 4
 },
 "nbformat": 4,
 "nbformat_minor": 2
}
